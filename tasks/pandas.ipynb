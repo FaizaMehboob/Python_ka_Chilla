{
 "cells": [
  {
   "cell_type": "markdown",
   "metadata": {},
   "source": [
    "# Import liabraries "
   ]
  },
  {
   "cell_type": "code",
   "execution_count": null,
   "metadata": {},
   "outputs": [],
   "source": [
    "import pandas as pd\n",
    "import numpy as np"
   ]
  },
  {
   "cell_type": "markdown",
   "metadata": {},
   "source": [
    "## Coding"
   ]
  },
  {
   "cell_type": "code",
   "execution_count": null,
   "metadata": {},
   "outputs": [],
   "source": [
    "# object creation\n",
    "s= pd.Series([1,3, np.nan ,5, 8,9])\n",
    "s"
   ]
  },
  {
   "cell_type": "code",
   "execution_count": null,
   "metadata": {},
   "outputs": [],
   "source": [
    "dates = pd.date_range(\"20130101\", periods=20)\n",
    "dates"
   ]
  },
  {
   "cell_type": "code",
   "execution_count": null,
   "metadata": {},
   "outputs": [],
   "source": [
    "dates = pd.date_range(\"20130101\", periods=20)\n",
    "dates\n",
    "df = pd.DataFrame(np.random.randn(20,4), index=dates, columns=list(\"ABCD\") )\n",
    "df"
   ]
  },
  {
   "cell_type": "markdown",
   "metadata": {},
   "source": [
    "# Dataframe"
   ]
  },
  {
   "cell_type": "code",
   "execution_count": null,
   "metadata": {},
   "outputs": [],
   "source": [
    "df2 = pd.DataFrame(\n",
    "    {\n",
    "        \"A\": 1.0,\n",
    "        \"B\": pd.Timestamp(\"20220111\"),\n",
    "        \"C\": pd.Series(1, index=list(range(4)), dtype=\"int32\"),\n",
    "        \"D\": np.array([3] * 4, dtype= \"int32\"),\n",
    "        \"E\": pd.Categorical([\"pandas\", \"numpy\", \"pandas\", \"numpy\"]),\n",
    "        \"F\": \"Name\", \n",
    "    }\n",
    ")\n",
    "\n",
    "df2\n",
    "    "
   ]
  },
  {
   "cell_type": "code",
   "execution_count": null,
   "metadata": {},
   "outputs": [],
   "source": [
    "df2.dtypes"
   ]
  },
  {
   "cell_type": "code",
   "execution_count": null,
   "metadata": {},
   "outputs": [],
   "source": [
    "df.head(8)"
   ]
  },
  {
   "cell_type": "code",
   "execution_count": null,
   "metadata": {},
   "outputs": [],
   "source": [
    "df.index"
   ]
  },
  {
   "cell_type": "code",
   "execution_count": null,
   "metadata": {},
   "outputs": [],
   "source": [
    "df.to_numpy()"
   ]
  },
  {
   "cell_type": "code",
   "execution_count": null,
   "metadata": {},
   "outputs": [],
   "source": [
    "df2.to_numpy()\n"
   ]
  },
  {
   "cell_type": "code",
   "execution_count": 132,
   "metadata": {},
   "outputs": [
    {
     "data": {
      "text/plain": [
       "2013-01-01    0.498972\n",
       "2013-01-02    0.184482\n",
       "2013-01-03    0.595099\n",
       "2013-01-04    0.140132\n",
       "2013-01-05    0.577525\n",
       "2013-01-06   -0.042213\n",
       "2013-01-07    0.348811\n",
       "2013-01-08    0.834119\n",
       "2013-01-09   -0.062869\n",
       "2013-01-10   -2.327513\n",
       "2013-01-11    2.032724\n",
       "2013-01-12   -0.615170\n",
       "2013-01-13   -0.365562\n",
       "2013-01-14   -1.186304\n",
       "2013-01-15   -0.240138\n",
       "2013-01-16    0.186998\n",
       "2013-01-17   -0.521013\n",
       "2013-01-18    0.871613\n",
       "2013-01-19   -0.063147\n",
       "2013-01-20   -0.957764\n",
       "Freq: D, Name: A, dtype: float64"
      ]
     },
     "execution_count": 132,
     "metadata": {},
     "output_type": "execute_result"
    }
   ],
   "source": [
    "df[\"A\"]"
   ]
  },
  {
   "cell_type": "markdown",
   "metadata": {},
   "source": []
  },
  {
   "cell_type": "code",
   "execution_count": null,
   "metadata": {},
   "outputs": [],
   "source": [
    "df2.T"
   ]
  },
  {
   "cell_type": "markdown",
   "metadata": {},
   "source": [
    "#Transpose"
   ]
  },
  {
   "cell_type": "code",
   "execution_count": null,
   "metadata": {},
   "outputs": [],
   "source": [
    "df.sort_values(by=\"B\")"
   ]
  },
  {
   "cell_type": "code",
   "execution_count": 133,
   "metadata": {},
   "outputs": [
    {
     "data": {
      "text/html": [
       "<div>\n",
       "<style scoped>\n",
       "    .dataframe tbody tr th:only-of-type {\n",
       "        vertical-align: middle;\n",
       "    }\n",
       "\n",
       "    .dataframe tbody tr th {\n",
       "        vertical-align: top;\n",
       "    }\n",
       "\n",
       "    .dataframe thead th {\n",
       "        text-align: right;\n",
       "    }\n",
       "</style>\n",
       "<table border=\"1\" class=\"dataframe\">\n",
       "  <thead>\n",
       "    <tr style=\"text-align: right;\">\n",
       "      <th></th>\n",
       "      <th>A</th>\n",
       "      <th>B</th>\n",
       "      <th>C</th>\n",
       "      <th>D</th>\n",
       "    </tr>\n",
       "  </thead>\n",
       "  <tbody>\n",
       "    <tr>\n",
       "      <th>2013-01-01</th>\n",
       "      <td>0.498972</td>\n",
       "      <td>-0.378236</td>\n",
       "      <td>-0.291191</td>\n",
       "      <td>-0.671387</td>\n",
       "    </tr>\n",
       "    <tr>\n",
       "      <th>2013-01-02</th>\n",
       "      <td>0.184482</td>\n",
       "      <td>0.473579</td>\n",
       "      <td>0.532304</td>\n",
       "      <td>-0.969995</td>\n",
       "    </tr>\n",
       "    <tr>\n",
       "      <th>2013-01-03</th>\n",
       "      <td>0.595099</td>\n",
       "      <td>-0.818421</td>\n",
       "      <td>0.046641</td>\n",
       "      <td>0.642164</td>\n",
       "    </tr>\n",
       "  </tbody>\n",
       "</table>\n",
       "</div>"
      ],
      "text/plain": [
       "                   A         B         C         D\n",
       "2013-01-01  0.498972 -0.378236 -0.291191 -0.671387\n",
       "2013-01-02  0.184482  0.473579  0.532304 -0.969995\n",
       "2013-01-03  0.595099 -0.818421  0.046641  0.642164"
      ]
     },
     "execution_count": 133,
     "metadata": {},
     "output_type": "execute_result"
    }
   ],
   "source": [
    "#Select by rows\n",
    "df[0: 3]"
   ]
  },
  {
   "cell_type": "code",
   "execution_count": 134,
   "metadata": {},
   "outputs": [
    {
     "data": {
      "text/plain": [
       "A    0.498972\n",
       "B   -0.378236\n",
       "C   -0.291191\n",
       "D   -0.671387\n",
       "Name: 2013-01-01 00:00:00, dtype: float64"
      ]
     },
     "execution_count": 134,
     "metadata": {},
     "output_type": "execute_result"
    }
   ],
   "source": [
    "#date wise data\n",
    "df.loc[dates[0]]"
   ]
  },
  {
   "cell_type": "code",
   "execution_count": 136,
   "metadata": {},
   "outputs": [
    {
     "data": {
      "text/html": [
       "<div>\n",
       "<style scoped>\n",
       "    .dataframe tbody tr th:only-of-type {\n",
       "        vertical-align: middle;\n",
       "    }\n",
       "\n",
       "    .dataframe tbody tr th {\n",
       "        vertical-align: top;\n",
       "    }\n",
       "\n",
       "    .dataframe thead th {\n",
       "        text-align: right;\n",
       "    }\n",
       "</style>\n",
       "<table border=\"1\" class=\"dataframe\">\n",
       "  <thead>\n",
       "    <tr style=\"text-align: right;\">\n",
       "      <th></th>\n",
       "      <th>A</th>\n",
       "      <th>B</th>\n",
       "    </tr>\n",
       "  </thead>\n",
       "  <tbody>\n",
       "    <tr>\n",
       "      <th>2013-01-01</th>\n",
       "      <td>0.498972</td>\n",
       "      <td>-0.378236</td>\n",
       "    </tr>\n",
       "    <tr>\n",
       "      <th>2013-01-02</th>\n",
       "      <td>0.184482</td>\n",
       "      <td>0.473579</td>\n",
       "    </tr>\n",
       "    <tr>\n",
       "      <th>2013-01-03</th>\n",
       "      <td>0.595099</td>\n",
       "      <td>-0.818421</td>\n",
       "    </tr>\n",
       "    <tr>\n",
       "      <th>2013-01-04</th>\n",
       "      <td>0.140132</td>\n",
       "      <td>0.730011</td>\n",
       "    </tr>\n",
       "    <tr>\n",
       "      <th>2013-01-05</th>\n",
       "      <td>0.577525</td>\n",
       "      <td>-1.708662</td>\n",
       "    </tr>\n",
       "    <tr>\n",
       "      <th>2013-01-06</th>\n",
       "      <td>-0.042213</td>\n",
       "      <td>1.686116</td>\n",
       "    </tr>\n",
       "    <tr>\n",
       "      <th>2013-01-07</th>\n",
       "      <td>0.348811</td>\n",
       "      <td>0.287805</td>\n",
       "    </tr>\n",
       "    <tr>\n",
       "      <th>2013-01-08</th>\n",
       "      <td>0.834119</td>\n",
       "      <td>-0.214274</td>\n",
       "    </tr>\n",
       "    <tr>\n",
       "      <th>2013-01-09</th>\n",
       "      <td>-0.062869</td>\n",
       "      <td>-0.434911</td>\n",
       "    </tr>\n",
       "    <tr>\n",
       "      <th>2013-01-10</th>\n",
       "      <td>-2.327513</td>\n",
       "      <td>0.318159</td>\n",
       "    </tr>\n",
       "    <tr>\n",
       "      <th>2013-01-11</th>\n",
       "      <td>2.032724</td>\n",
       "      <td>1.636125</td>\n",
       "    </tr>\n",
       "    <tr>\n",
       "      <th>2013-01-12</th>\n",
       "      <td>-0.615170</td>\n",
       "      <td>2.238424</td>\n",
       "    </tr>\n",
       "    <tr>\n",
       "      <th>2013-01-13</th>\n",
       "      <td>-0.365562</td>\n",
       "      <td>1.183129</td>\n",
       "    </tr>\n",
       "    <tr>\n",
       "      <th>2013-01-14</th>\n",
       "      <td>-1.186304</td>\n",
       "      <td>-0.449990</td>\n",
       "    </tr>\n",
       "    <tr>\n",
       "      <th>2013-01-15</th>\n",
       "      <td>-0.240138</td>\n",
       "      <td>1.144714</td>\n",
       "    </tr>\n",
       "    <tr>\n",
       "      <th>2013-01-16</th>\n",
       "      <td>0.186998</td>\n",
       "      <td>-1.497591</td>\n",
       "    </tr>\n",
       "    <tr>\n",
       "      <th>2013-01-17</th>\n",
       "      <td>-0.521013</td>\n",
       "      <td>0.088177</td>\n",
       "    </tr>\n",
       "    <tr>\n",
       "      <th>2013-01-18</th>\n",
       "      <td>0.871613</td>\n",
       "      <td>-0.366851</td>\n",
       "    </tr>\n",
       "    <tr>\n",
       "      <th>2013-01-19</th>\n",
       "      <td>-0.063147</td>\n",
       "      <td>-0.208630</td>\n",
       "    </tr>\n",
       "    <tr>\n",
       "      <th>2013-01-20</th>\n",
       "      <td>-0.957764</td>\n",
       "      <td>0.623122</td>\n",
       "    </tr>\n",
       "  </tbody>\n",
       "</table>\n",
       "</div>"
      ],
      "text/plain": [
       "                   A         B\n",
       "2013-01-01  0.498972 -0.378236\n",
       "2013-01-02  0.184482  0.473579\n",
       "2013-01-03  0.595099 -0.818421\n",
       "2013-01-04  0.140132  0.730011\n",
       "2013-01-05  0.577525 -1.708662\n",
       "2013-01-06 -0.042213  1.686116\n",
       "2013-01-07  0.348811  0.287805\n",
       "2013-01-08  0.834119 -0.214274\n",
       "2013-01-09 -0.062869 -0.434911\n",
       "2013-01-10 -2.327513  0.318159\n",
       "2013-01-11  2.032724  1.636125\n",
       "2013-01-12 -0.615170  2.238424\n",
       "2013-01-13 -0.365562  1.183129\n",
       "2013-01-14 -1.186304 -0.449990\n",
       "2013-01-15 -0.240138  1.144714\n",
       "2013-01-16  0.186998 -1.497591\n",
       "2013-01-17 -0.521013  0.088177\n",
       "2013-01-18  0.871613 -0.366851\n",
       "2013-01-19 -0.063147 -0.208630\n",
       "2013-01-20 -0.957764  0.623122"
      ]
     },
     "execution_count": 136,
     "metadata": {},
     "output_type": "execute_result"
    }
   ],
   "source": [
    "df.loc[:, [\"A\",\"B\"]]"
   ]
  },
  {
   "cell_type": "code",
   "execution_count": 138,
   "metadata": {},
   "outputs": [
    {
     "data": {
      "text/plain": [
       "0.0881768715241928"
      ]
     },
     "execution_count": 138,
     "metadata": {},
     "output_type": "execute_result"
    }
   ],
   "source": [
    "df.at[dates[16], \"B\"]"
   ]
  },
  {
   "cell_type": "code",
   "execution_count": 139,
   "metadata": {},
   "outputs": [
    {
     "data": {
      "text/html": [
       "<div>\n",
       "<style scoped>\n",
       "    .dataframe tbody tr th:only-of-type {\n",
       "        vertical-align: middle;\n",
       "    }\n",
       "\n",
       "    .dataframe tbody tr th {\n",
       "        vertical-align: top;\n",
       "    }\n",
       "\n",
       "    .dataframe thead th {\n",
       "        text-align: right;\n",
       "    }\n",
       "</style>\n",
       "<table border=\"1\" class=\"dataframe\">\n",
       "  <thead>\n",
       "    <tr style=\"text-align: right;\">\n",
       "      <th></th>\n",
       "      <th>A</th>\n",
       "      <th>B</th>\n",
       "      <th>C</th>\n",
       "    </tr>\n",
       "  </thead>\n",
       "  <tbody>\n",
       "    <tr>\n",
       "      <th>2013-01-01</th>\n",
       "      <td>0.498972</td>\n",
       "      <td>-0.378236</td>\n",
       "      <td>-0.291191</td>\n",
       "    </tr>\n",
       "    <tr>\n",
       "      <th>2013-01-02</th>\n",
       "      <td>0.184482</td>\n",
       "      <td>0.473579</td>\n",
       "      <td>0.532304</td>\n",
       "    </tr>\n",
       "    <tr>\n",
       "      <th>2013-01-03</th>\n",
       "      <td>0.595099</td>\n",
       "      <td>-0.818421</td>\n",
       "      <td>0.046641</td>\n",
       "    </tr>\n",
       "    <tr>\n",
       "      <th>2013-01-04</th>\n",
       "      <td>0.140132</td>\n",
       "      <td>0.730011</td>\n",
       "      <td>0.361841</td>\n",
       "    </tr>\n",
       "    <tr>\n",
       "      <th>2013-01-05</th>\n",
       "      <td>0.577525</td>\n",
       "      <td>-1.708662</td>\n",
       "      <td>2.209634</td>\n",
       "    </tr>\n",
       "  </tbody>\n",
       "</table>\n",
       "</div>"
      ],
      "text/plain": [
       "                   A         B         C\n",
       "2013-01-01  0.498972 -0.378236 -0.291191\n",
       "2013-01-02  0.184482  0.473579  0.532304\n",
       "2013-01-03  0.595099 -0.818421  0.046641\n",
       "2013-01-04  0.140132  0.730011  0.361841\n",
       "2013-01-05  0.577525 -1.708662  2.209634"
      ]
     },
     "execution_count": 139,
     "metadata": {},
     "output_type": "execute_result"
    }
   ],
   "source": [
    "df.iloc[0:5, 0:3]"
   ]
  },
  {
   "cell_type": "markdown",
   "metadata": {},
   "source": [
    "df.iloc[0:5, 0:3]"
   ]
  },
  {
   "cell_type": "code",
   "execution_count": 140,
   "metadata": {},
   "outputs": [
    {
     "data": {
      "text/html": [
       "<div>\n",
       "<style scoped>\n",
       "    .dataframe tbody tr th:only-of-type {\n",
       "        vertical-align: middle;\n",
       "    }\n",
       "\n",
       "    .dataframe tbody tr th {\n",
       "        vertical-align: top;\n",
       "    }\n",
       "\n",
       "    .dataframe thead th {\n",
       "        text-align: right;\n",
       "    }\n",
       "</style>\n",
       "<table border=\"1\" class=\"dataframe\">\n",
       "  <thead>\n",
       "    <tr style=\"text-align: right;\">\n",
       "      <th></th>\n",
       "      <th>A</th>\n",
       "      <th>B</th>\n",
       "      <th>C</th>\n",
       "      <th>D</th>\n",
       "    </tr>\n",
       "  </thead>\n",
       "  <tbody>\n",
       "    <tr>\n",
       "      <th>2013-01-01</th>\n",
       "      <td>0.498972</td>\n",
       "      <td>-0.378236</td>\n",
       "      <td>-0.291191</td>\n",
       "      <td>-0.671387</td>\n",
       "    </tr>\n",
       "    <tr>\n",
       "      <th>2013-01-02</th>\n",
       "      <td>0.184482</td>\n",
       "      <td>0.473579</td>\n",
       "      <td>0.532304</td>\n",
       "      <td>-0.969995</td>\n",
       "    </tr>\n",
       "    <tr>\n",
       "      <th>2013-01-03</th>\n",
       "      <td>0.595099</td>\n",
       "      <td>-0.818421</td>\n",
       "      <td>0.046641</td>\n",
       "      <td>0.642164</td>\n",
       "    </tr>\n",
       "    <tr>\n",
       "      <th>2013-01-04</th>\n",
       "      <td>0.140132</td>\n",
       "      <td>0.730011</td>\n",
       "      <td>0.361841</td>\n",
       "      <td>-1.328102</td>\n",
       "    </tr>\n",
       "    <tr>\n",
       "      <th>2013-01-05</th>\n",
       "      <td>0.577525</td>\n",
       "      <td>-1.708662</td>\n",
       "      <td>2.209634</td>\n",
       "      <td>0.642630</td>\n",
       "    </tr>\n",
       "    <tr>\n",
       "      <th>2013-01-07</th>\n",
       "      <td>0.348811</td>\n",
       "      <td>0.287805</td>\n",
       "      <td>0.622503</td>\n",
       "      <td>-0.090979</td>\n",
       "    </tr>\n",
       "    <tr>\n",
       "      <th>2013-01-08</th>\n",
       "      <td>0.834119</td>\n",
       "      <td>-0.214274</td>\n",
       "      <td>-1.903454</td>\n",
       "      <td>0.000842</td>\n",
       "    </tr>\n",
       "    <tr>\n",
       "      <th>2013-01-11</th>\n",
       "      <td>2.032724</td>\n",
       "      <td>1.636125</td>\n",
       "      <td>-1.269153</td>\n",
       "      <td>0.090918</td>\n",
       "    </tr>\n",
       "    <tr>\n",
       "      <th>2013-01-16</th>\n",
       "      <td>0.186998</td>\n",
       "      <td>-1.497591</td>\n",
       "      <td>-0.661398</td>\n",
       "      <td>-0.366528</td>\n",
       "    </tr>\n",
       "    <tr>\n",
       "      <th>2013-01-18</th>\n",
       "      <td>0.871613</td>\n",
       "      <td>-0.366851</td>\n",
       "      <td>0.797106</td>\n",
       "      <td>1.121654</td>\n",
       "    </tr>\n",
       "  </tbody>\n",
       "</table>\n",
       "</div>"
      ],
      "text/plain": [
       "                   A         B         C         D\n",
       "2013-01-01  0.498972 -0.378236 -0.291191 -0.671387\n",
       "2013-01-02  0.184482  0.473579  0.532304 -0.969995\n",
       "2013-01-03  0.595099 -0.818421  0.046641  0.642164\n",
       "2013-01-04  0.140132  0.730011  0.361841 -1.328102\n",
       "2013-01-05  0.577525 -1.708662  2.209634  0.642630\n",
       "2013-01-07  0.348811  0.287805  0.622503 -0.090979\n",
       "2013-01-08  0.834119 -0.214274 -1.903454  0.000842\n",
       "2013-01-11  2.032724  1.636125 -1.269153  0.090918\n",
       "2013-01-16  0.186998 -1.497591 -0.661398 -0.366528\n",
       "2013-01-18  0.871613 -0.366851  0.797106  1.121654"
      ]
     },
     "execution_count": 140,
     "metadata": {},
     "output_type": "execute_result"
    }
   ],
   "source": [
    "df[df[\"A\"]>0]"
   ]
  },
  {
   "cell_type": "markdown",
   "metadata": {},
   "source": [
    "# 2 string  df[df[\"A\"]>0]\n",
    "\n",
    "# df2[\"mean\"]=[df2[\"B\"]+1]"
   ]
  },
  {
   "cell_type": "code",
   "execution_count": null,
   "metadata": {},
   "outputs": [],
   "source": []
  },
  {
   "cell_type": "code",
   "execution_count": null,
   "metadata": {},
   "outputs": [],
   "source": []
  },
  {
   "cell_type": "markdown",
   "metadata": {},
   "source": []
  }
 ],
 "metadata": {
  "interpreter": {
   "hash": "d64166e681012c2328763c6053fb1117f36bdc3f6c89e595724f09b3b7ff6e01"
  },
  "kernelspec": {
   "display_name": "Python 3.9.7 64-bit ('base': conda)",
   "language": "python",
   "name": "python3"
  },
  "language_info": {
   "codemirror_mode": {
    "name": "ipython",
    "version": 3
   },
   "file_extension": ".py",
   "mimetype": "text/x-python",
   "name": "python",
   "nbconvert_exporter": "python",
   "pygments_lexer": "ipython3",
   "version": "3.9.7"
  },
  "orig_nbformat": 4
 },
 "nbformat": 4,
 "nbformat_minor": 2
}
