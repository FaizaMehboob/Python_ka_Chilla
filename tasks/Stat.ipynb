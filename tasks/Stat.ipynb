{
 "cells": [
  {
   "cell_type": "markdown",
   "metadata": {},
   "source": [
    "### Homework 33\n",
    "### write all definition of 33 video"
   ]
  },
  {
   "cell_type": "markdown",
   "metadata": {},
   "source": [
    "# First Step\n",
    "### Parametirc Test\n",
    "- Relaiable test \n",
    "### Non-Parametric test\n",
    "- less relaiable test\n"
   ]
  },
  {
   "cell_type": "markdown",
   "metadata": {},
   "source": [
    "# Normality Test\n",
    "- Shapiro-Wilk test it tests normality in frequentist statistics it checks Null Hypothesis\n",
    "- Kolmogorov Smirnov test , it quantifie a distance between the empirical distribution function.\n",
    "   "
   ]
  },
  {
   "cell_type": "markdown",
   "metadata": {},
   "source": [
    "# Step 2 Homogenity Test\n",
    "- Levene's Test  is used to test if k samples have equal variances. Equal variances across samples is called homogeneity of variance."
   ]
  },
  {
   "cell_type": "markdown",
   "metadata": {},
   "source": [
    "# Step 3\n",
    "## Purpose\n",
    "### Know the purpose of your Research\n"
   ]
  },
  {
   "cell_type": "markdown",
   "metadata": {},
   "source": [
    "## Two types of Purposes\n",
    "### Comparision\n",
    "- comparision between two groups\n",
    "- comparision between colors and rates of handbags\n",
    "### Relationship\n",
    "- Like giving food to One and if the weight is increasing (Relation between food and weight)\n",
    "\n"
   ]
  },
  {
   "cell_type": "markdown",
   "metadata": {},
   "source": [
    "# Step 4\n",
    "## Data Types\n",
    "- On which type of data we are working\n",
    "  ## Categorical \n",
    "  - Quality checkiing \n",
    "  - Likeness Yes/NO\n",
    "  - \n",
    "## Continous\n",
    "- Quantative , Numerical\n",
    "- Numbers float, int\n",
    "- Amount\n",
    "- height"
   ]
  },
  {
   "cell_type": "markdown",
   "metadata": {},
   "source": [
    "# Step 5\n",
    "## Statistical Tests\n",
    "- 1 Chi squared test\n",
    "  - categorical variable comparision\n",
    "  - can be used any numbers of groups\n",
    "  - know the purpose\n",
    "\n",
    "- 2 t-test/Anova\n",
    "  - Categorical and continous both here\n",
    "  - comprision between Categorical and continous\n",
    "  - One sample test \n",
    "   - height of girl compae 5.5 one sample\n",
    "  - Two sample t test\n",
    "   - two different groups like girls from Pakistan and aboroad and comparinng their height\n",
    "   - same sourse and same unit = Paired test\n",
    " - ANOVA\n",
    "  - One way ANOVA  \n",
    "  - comparision between groups like male femal and children groups\n",
    "  \n",
    "- 3 Correlation\n",
    "  - Continous data only\n",
    "  - Where to use it\n",
    "  -  Two data types Relation\n",
    "  -  comparision in two data types\n",
    "- Pearson Correlation\n",
    "- One dependent one independent food and weight example\n",
    "  - Correletion = How closely connected two variables are\n",
    "  - kya hm food se weight gain ko dekh sktw hn\n",
    "- Regression\n",
    " - Its tells a equation taht tells relationship\n",
    "  \n"
   ]
  },
  {
   "cell_type": "markdown",
   "metadata": {},
   "source": [
    "#### When data is normal Gaussian distribution\n",
    "- Test the data according to studied methods  \n",
    "  \n",
    " - Normality\n",
    " - Homogenity\n",
    "- Normalize the data"
   ]
  },
  {
   "cell_type": "markdown",
   "metadata": {},
   "source": [
    "## Normality\n",
    "- Data is normal Parametric test \n",
    "- try to normalize if than it is normal use parametrci test # Reliable\n",
    "- Correlation\n",
    " - Pearson coorelation\n",
    " - Regression"
   ]
  },
  {
   "cell_type": "markdown",
   "metadata": {},
   "source": []
  },
  {
   "cell_type": "markdown",
   "metadata": {},
   "source": []
  },
  {
   "cell_type": "markdown",
   "metadata": {},
   "source": [
    "### Homework 35 video\n",
    "## Research deisgn CRD VS RCBD and LSD\n",
    "## wrrite other Research deign with example"
   ]
  },
  {
   "cell_type": "markdown",
   "metadata": {},
   "source": [
    "# Descriptive Correlational Design\n",
    " - Psychologist use this deisgn to understand patients behaviour\n",
    " - monitoring the state of mind of ones's\n",
    " - than coordinally monitirizing the state different time and stage"
   ]
  }
 ],
 "metadata": {
  "language_info": {
   "name": "python"
  },
  "orig_nbformat": 4
 },
 "nbformat": 4,
 "nbformat_minor": 2
}
