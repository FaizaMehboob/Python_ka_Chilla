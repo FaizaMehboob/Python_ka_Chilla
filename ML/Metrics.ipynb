{
 "cells": [
  {
   "cell_type": "markdown",
   "metadata": {},
   "source": [
    "## Confusion Metrix\n",
    "Confusion matrix give output a metrix which describe the perfromance of a model, counts instances of a class A into class B like if there is an images array in which it will go through different rows and columns and it works on set of predictions. \n",
    "It will have tru positive and true negative numbers having non zeros.\n",
    "\n"
   ]
  },
  {
   "cell_type": "markdown",
   "metadata": {},
   "source": [
    "## F1 Score\n",
    "F1 score is used to measure test accuracy, its harmonnic mean between precision and recall, it ranges between 0 and 1, it precisely tells about classifier it gi thorugh all the instances.\n",
    "When precision is high and recall is low it means model is accurate "
   ]
  },
  {
   "cell_type": "markdown",
   "metadata": {},
   "source": [
    "### Precision\n",
    "Precision is True positive numbers divided by numbers of positive results predicted by the classifier"
   ]
  },
  {
   "cell_type": "markdown",
   "metadata": {},
   "source": [
    "### Recall\n",
    "Recall is the numbers of correct positive results divided by the number of all relevant samplespositive."
   ]
  },
  {
   "cell_type": "markdown",
   "metadata": {},
   "source": [
    "### Mean Absolute Error\n",
    "MAE is average between the orignal values and predicted values, it tell how much our results are closer to orignal input values/"
   ]
  },
  {
   "cell_type": "markdown",
   "metadata": {},
   "source": [
    "# Area Under Curve\n",
    " This evaluation metrics is used fro binary classification, AUC of a classifier is equal to the probability that the classifier will rank a randomly chosen positive example higher than a randomly chosen negative"
   ]
  },
  {
   "cell_type": "markdown",
   "metadata": {},
   "source": [
    "## Cross Validation  \n",
    "Used it very first in checking accuracy score it describes accuracy score scikitlearn have different way to deal with accuracy of different kinds of data.\n"
   ]
  }
 ],
 "metadata": {
  "language_info": {
   "name": "python"
  },
  "orig_nbformat": 4
 },
 "nbformat": 4,
 "nbformat_minor": 2
}
